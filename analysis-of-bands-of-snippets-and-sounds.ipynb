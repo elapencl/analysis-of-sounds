{
 "cells": [
  {
   "cell_type": "code",
   "execution_count": null,
   "metadata": {
    "collapsed": true
   },
   "outputs": [],
   "source": [
    "import os\n",
    "import sys\n",
    "sys.path.append('..')\n",
    "from scipy.io import wavfile\n",
    "import settings\n",
    "import soundanalysis\n",
    "import sound_files\n",
    "from matplotlib import pyplot as plt\n",
    "import numpy as np\n",
    "import seaborn as sns\n",
    "import scipy\n",
    "from scipy import stats\n",
    "from IPython.display import Audio"
   ]
  },
  {
   "cell_type": "code",
   "execution_count": null,
   "metadata": {},
   "outputs": [],
   "source": [
    "files = ['heavy_rain_snippet1', 'heavy_rain_snippet2', 'heavy_rain_snippet3', 'heavy_rain_snippet4', 'heavy_rain_snippet5', 'heavy_rain_snippet6']\n",
    "\n",
    "first_sound = os.path.join(settings.SOUNDS_PATH, files[0])\n",
    "sana_sound1 = soundanalysis.SoundAnalysis(soundfile=first_sound)\n",
    "\n",
    "second_sound = os.path.join(settings.SOUNDS_PATH, files[1])\n",
    "sana_sound2 = soundanalysis.SoundAnalysis(soundfile=second_sound)\n",
    "\n",
    "third_sound = os.path.join(settings.SOUNDS_PATH, files[2])\n",
    "sana_sound3 = soundanalysis.SoundAnalysis(soundfile=third_sound)\n",
    "\n",
    "fourth_sound = os.path.join(settings.SOUNDS_PATH, files[3])\n",
    "sana_sound4 = soundanalysis.SoundAnalysis(soundfile=fourth_sound)\n",
    "\n",
    "fifth_sound = os.path.join(settings.SOUNDS_PATH, files[4])\n",
    "sana_sound5 = soundanalysis.SoundAnalysis(soundfile=fifth_sound)\n",
    "\n",
    "sixth_sound = os.path.join(settings.SOUNDS_PATH, files[5])\n",
    "sana_sound6 = soundanalysis.SoundAnalysis(soundfile=sixth_sound)\n",
    "\n",
    "#what limits whould we use?\n",
    "sana_sound1.analyze(4, [20, 8000])\n",
    "sana_sound2.analyze(4, [20, 8000])"
   ]
  },
  {
   "cell_type": "code",
   "execution_count": null,
   "metadata": {},
   "outputs": [],
   "source": []
  }
 ],
 "metadata": {
  "kernelspec": {
   "display_name": "Python 3",
   "language": "python",
   "name": "python3"
  },
  "language_info": {
   "codemirror_mode": {
    "name": "ipython",
    "version": 3
   },
   "file_extension": ".py",
   "mimetype": "text/x-python",
   "name": "python",
   "nbconvert_exporter": "python",
   "pygments_lexer": "ipython3",
   "version": "3.7.4"
  }
 },
 "nbformat": 4,
 "nbformat_minor": 1
}
