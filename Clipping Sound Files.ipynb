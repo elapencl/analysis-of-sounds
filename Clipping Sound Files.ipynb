{
 "cells": [
  {
   "cell_type": "markdown",
   "metadata": {},
   "source": [
    "## Clipping Sound Files"
   ]
  },
  {
   "cell_type": "markdown",
   "metadata": {},
   "source": [
    "<font size=\"3\">Using this code, we can clip the first 60 seconds of our sound file.</font>"
   ]
  },
  {
   "cell_type": "code",
   "execution_count": 3,
   "metadata": {},
   "outputs": [
    {
     "name": "stderr",
     "output_type": "stream",
     "text": [
      "C:\\Users\\elape\\Anaconda3\\lib\\site-packages\\scipy\\io\\wavfile.py:273: WavFileWarning: Chunk (non-data) not understood, skipping it.\n",
      "  WavFileWarning)\n"
     ]
    }
   ],
   "source": [
    "import os\n",
    "import sys\n",
    "\n",
    "sys.path.append('..')\n",
    "from scipy.io import wavfile\n",
    "import settings\n",
    "\n",
    "filename = os.path.join(settings.SOUNDS_PATH, 'river_atmosphere.wav')\n",
    "\n",
    "\n",
    "def clip(originalSoundFile, newSoundFile, startTime, endTime):\n",
    "    frequency, data = wavfile.read(originalSoundFile)\n",
    "    # make stereo to mono? this fixes the error\n",
    "    check = data[:, 0]\n",
    "    newStartTime = int(startTime * frequency)\n",
    "    newEndTime = int(endTime * frequency)\n",
    "    wavfile.write(newSoundFile, frequency, check[newStartTime:newEndTime])\n",
    "\n",
    "\n",
    "clip(filename, filename.replace(\".wav\", \"_clipped.wav\"), 0, 60)"
   ]
  }
 ],
 "metadata": {
  "kernelspec": {
   "display_name": "Python 3",
   "language": "python",
   "name": "python3"
  },
  "language_info": {
   "codemirror_mode": {
    "name": "ipython",
    "version": 3
   },
   "file_extension": ".py",
   "mimetype": "text/x-python",
   "name": "python",
   "nbconvert_exporter": "python",
   "pygments_lexer": "ipython3",
   "version": "3.7.4"
  }
 },
 "nbformat": 4,
 "nbformat_minor": 2
}
